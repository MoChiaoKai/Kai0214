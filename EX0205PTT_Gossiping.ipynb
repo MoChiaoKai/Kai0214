{
  "nbformat": 4,
  "nbformat_minor": 0,
  "metadata": {
    "colab": {
      "provenance": [],
      "authorship_tag": "ABX9TyOoti4ujlOV6XMs+BawpuLX",
      "include_colab_link": true
    },
    "kernelspec": {
      "name": "python3",
      "display_name": "Python 3"
    },
    "language_info": {
      "name": "python"
    }
  },
  "cells": [
    {
      "cell_type": "markdown",
      "metadata": {
        "id": "view-in-github",
        "colab_type": "text"
      },
      "source": [
        "<a href=\"https://colab.research.google.com/github/MoChiaoKai/Kai0214/blob/main/EX0205PTT_Gossiping.ipynb\" target=\"_parent\"><img src=\"https://colab.research.google.com/assets/colab-badge.svg\" alt=\"Open In Colab\"/></a>"
      ]
    },
    {
      "cell_type": "code",
      "execution_count": null,
      "metadata": {
        "colab": {
          "base_uri": "https://localhost:8080/"
        },
        "id": "wpcO5Vr--niA",
        "outputId": "71c8ae95-5021-41f4-df43-a3905990bcb2"
      },
      "outputs": [
        {
          "output_type": "execute_result",
          "data": {
            "text/plain": [
              "<title>看板 Gossiping 文章列表 - 批踢踢實業坊</title>"
            ]
          },
          "metadata": {},
          "execution_count": 42
        }
      ],
      "source": [
        "import requests\n",
        "from bs4 import BeautifulSoup\n",
        "\n",
        "url = 'https://www.ptt.cc/bbs/gossiping/index.html'\n",
        "response = requests.get(url)\n",
        "soup = BeautifulSoup(response.text, 'html.parser')\n",
        "soup.title"
      ]
    },
    {
      "cell_type": "code",
      "source": [
        "for atcl in soup.find_all('div', class_='r-ent'):\n",
        "    ttle = atcl.find('div', class_='title').a.text\n",
        "    href = 'https://www.ptt.cc' + atcl.find('div', class_='title').a.get('href')\n",
        "    date = atcl.find('div', class_='date').text\n",
        "    print(date,href,ttle)"
      ],
      "metadata": {
        "colab": {
          "base_uri": "https://localhost:8080/"
        },
        "id": "Mxy9nXAtANQz",
        "outputId": "471d04e4-5e15-4c47-a264-8a023493eedf"
      },
      "execution_count": null,
      "outputs": [
        {
          "output_type": "stream",
          "name": "stdout",
          "text": [
            " 3/25 https://www.ptt.cc/bbs/movie/M.1742882992.A.C16.html [請益] 月老 原著比電影好看很多嗎?\n",
            " 3/25 https://www.ptt.cc/bbs/movie/M.1742883654.A.D09.html [新聞] 星際寶貝選角太白爭議\n",
            " 3/25 https://www.ptt.cc/bbs/movie/M.1742885304.A.3BD.html [討論] 你最喜歡王家衛東邪西毒的哪個角色?\n",
            " 9/04 https://www.ptt.cc/bbs/movie/M.1630756788.A.1FE.html [公告] 電影板板規 2022/12/5\n",
            " 9/15 https://www.ptt.cc/bbs/movie/M.1694784041.A.89F.html [公告] 禁政治版規 及 投票結果\n"
          ]
        }
      ]
    },
    {
      "cell_type": "code",
      "source": [
        "def get_articles(url):\n",
        "    url = 'https://www.ptt.cc/bbs/gossiping/index.html'\n",
        "    response = requests.get(url, cookies=cookies)\n",
        "    soup = BeautifulSoup(response.text, 'html.parser')\n",
        "    for atcl in soup.find_all('div', class_='r-ent'):\n",
        "        if atcl.find('div', class_='title').a:\n",
        "            ttle = atcl.find('div', class_='title').a.text\n",
        "            href = 'https://www.ptt.cc' + atcl.find('div', class_='title').a.get('href')\n",
        "        else:\n",
        "            ttle = atcl.find('div', class_='title').text\n",
        "        date = atcl.find('div', class_='date').text\n",
        "        print(date,href,ttle)\n",
        "    url = 'https://www.ptt.cc' + soup.find_all('a', class_='btn wide')[1].get('href')\n",
        "    return url\n",
        "url = 'https://www.ptt.cc/bbs/gossiping/index.html'\n",
        "cookies = {'over18': '1'}\n",
        "for i in range(5):\n",
        "    url = get_articles(url)"
      ],
      "metadata": {
        "colab": {
          "base_uri": "https://localhost:8080/"
        },
        "id": "c_kcnioDEYrI",
        "outputId": "2c9ecf90-f6c1-436f-98e0-d74fd9e3dbf9"
      },
      "execution_count": null,
      "outputs": [
        {
          "output_type": "stream",
          "name": "stdout",
          "text": [
            " 3/25 https://www.ptt.cc/bbs/Gossiping/M.1742886853.A.F1F.html Re: [問卦] 在中國宣揚台獨會怎麼樣\n",
            " 3/25 https://www.ptt.cc/bbs/Gossiping/M.1742886948.A.5E6.html [問卦] 開獎看到這個如何調適\n",
            " 3/25 https://www.ptt.cc/bbs/Gossiping/M.1742887010.A.89A.html Re: [問卦]  我不認同你的觀點 但是我誓死捍衛你說\n",
            " 3/25 https://www.ptt.cc/bbs/Gossiping/M.1742887012.A.67D.html Re: [問卦]  我不認同你的觀點 但是我誓死捍衛你說\n",
            " 3/25 https://www.ptt.cc/bbs/Gossiping/M.1742887027.A.5F3.html [問卦] 亞亞真的太蠢了\n",
            " 3/25 https://www.ptt.cc/bbs/Gossiping/M.1742887100.A.5F1.html [問卦] 記者快來！中國網友一千留言要台灣放人\n",
            " 3/25 https://www.ptt.cc/bbs/Gossiping/M.1742887102.A.21F.html [問卦] 一輩子只能吃速食店怎麼選\n",
            " 3/25 https://www.ptt.cc/bbs/Gossiping/M.1742887137.A.FF6.html [問卦] 小微跟恩綺現在在幹嘛？\n",
            " 3/25 https://www.ptt.cc/bbs/Gossiping/M.1742887144.A.119.html [問卦] 金價會無止盡上漲嗎？\n",
            " 3/25 https://www.ptt.cc/bbs/Gossiping/M.1742887156.A.6CE.html [問卦]比特犬咬人很多人說是養的人問題 也不去領\n",
            " 3/25 https://www.ptt.cc/bbs/Gossiping/M.1742887224.A.B0A.html [新聞] 涮樂和牛羅東店食物中毒檢驗曝　疾管署：\n",
            " 3/25 https://www.ptt.cc/bbs/Gossiping/M.1742887252.A.1B7.html Re: [問卦] 今天共配亞亞沒被強制出境 我就終身...\n",
            " 3/25 https://www.ptt.cc/bbs/Gossiping/M.1742887283.A.F64.html [問卦] 中共是敵國戰機越線怎麼不打下來\n",
            "11/02 https://www.ptt.cc/bbs/Gossiping/M.1730554547.A.41C.html Fw: [公告] 請留意新註冊帳號使用信件詐騙\n",
            " 1/21 https://www.ptt.cc/bbs/Gossiping/M.1737398137.A.644.html [公告] 八卦板板規(2025.01.21)\n",
            " 2/20 https://www.ptt.cc/bbs/Gossiping/M.1740024219.A.1EB.html [公告]  春季大反攻！！八卦板主徵選報名開始捏\n",
            " 3/12 https://www.ptt.cc/bbs/Gossiping/M.1741791500.A.EB6.html Fw: [公告] 請避免與登入1次之帳號進行交易 發錢\n",
            " 3/25 https://www.ptt.cc/bbs/Gossiping/M.1742886853.A.F1F.html Re: [問卦] 在中國宣揚台獨會怎麼樣\n",
            " 3/25 https://www.ptt.cc/bbs/Gossiping/M.1742886948.A.5E6.html [問卦] 開獎看到這個如何調適\n",
            " 3/25 https://www.ptt.cc/bbs/Gossiping/M.1742887010.A.89A.html Re: [問卦]  我不認同你的觀點 但是我誓死捍衛你說\n",
            " 3/25 https://www.ptt.cc/bbs/Gossiping/M.1742887012.A.67D.html Re: [問卦]  我不認同你的觀點 但是我誓死捍衛你說\n",
            " 3/25 https://www.ptt.cc/bbs/Gossiping/M.1742887027.A.5F3.html [問卦] 亞亞真的太蠢了\n",
            " 3/25 https://www.ptt.cc/bbs/Gossiping/M.1742887100.A.5F1.html [問卦] 記者快來！中國網友一千留言要台灣放人\n",
            " 3/25 https://www.ptt.cc/bbs/Gossiping/M.1742887102.A.21F.html [問卦] 一輩子只能吃速食店怎麼選\n",
            " 3/25 https://www.ptt.cc/bbs/Gossiping/M.1742887137.A.FF6.html [問卦] 小微跟恩綺現在在幹嘛？\n",
            " 3/25 https://www.ptt.cc/bbs/Gossiping/M.1742887144.A.119.html [問卦] 金價會無止盡上漲嗎？\n",
            " 3/25 https://www.ptt.cc/bbs/Gossiping/M.1742887156.A.6CE.html [問卦]比特犬咬人很多人說是養的人問題 也不去領\n",
            " 3/25 https://www.ptt.cc/bbs/Gossiping/M.1742887224.A.B0A.html [新聞] 涮樂和牛羅東店食物中毒檢驗曝　疾管署：\n",
            " 3/25 https://www.ptt.cc/bbs/Gossiping/M.1742887252.A.1B7.html Re: [問卦] 今天共配亞亞沒被強制出境 我就終身...\n",
            " 3/25 https://www.ptt.cc/bbs/Gossiping/M.1742887283.A.F64.html [問卦] 中共是敵國戰機越線怎麼不打下來\n",
            "11/02 https://www.ptt.cc/bbs/Gossiping/M.1730554547.A.41C.html Fw: [公告] 請留意新註冊帳號使用信件詐騙\n",
            " 1/21 https://www.ptt.cc/bbs/Gossiping/M.1737398137.A.644.html [公告] 八卦板板規(2025.01.21)\n",
            " 2/20 https://www.ptt.cc/bbs/Gossiping/M.1740024219.A.1EB.html [公告]  春季大反攻！！八卦板主徵選報名開始捏\n",
            " 3/12 https://www.ptt.cc/bbs/Gossiping/M.1741791500.A.EB6.html Fw: [公告] 請避免與登入1次之帳號進行交易 發錢\n",
            " 3/25 https://www.ptt.cc/bbs/Gossiping/M.1742886853.A.F1F.html Re: [問卦] 在中國宣揚台獨會怎麼樣\n",
            " 3/25 https://www.ptt.cc/bbs/Gossiping/M.1742886948.A.5E6.html [問卦] 開獎看到這個如何調適\n",
            " 3/25 https://www.ptt.cc/bbs/Gossiping/M.1742887010.A.89A.html Re: [問卦]  我不認同你的觀點 但是我誓死捍衛你說\n",
            " 3/25 https://www.ptt.cc/bbs/Gossiping/M.1742887012.A.67D.html Re: [問卦]  我不認同你的觀點 但是我誓死捍衛你說\n",
            " 3/25 https://www.ptt.cc/bbs/Gossiping/M.1742887027.A.5F3.html [問卦] 亞亞真的太蠢了\n",
            " 3/25 https://www.ptt.cc/bbs/Gossiping/M.1742887100.A.5F1.html [問卦] 記者快來！中國網友一千留言要台灣放人\n",
            " 3/25 https://www.ptt.cc/bbs/Gossiping/M.1742887102.A.21F.html [問卦] 一輩子只能吃速食店怎麼選\n",
            " 3/25 https://www.ptt.cc/bbs/Gossiping/M.1742887137.A.FF6.html [問卦] 小微跟恩綺現在在幹嘛？\n",
            " 3/25 https://www.ptt.cc/bbs/Gossiping/M.1742887144.A.119.html [問卦] 金價會無止盡上漲嗎？\n",
            " 3/25 https://www.ptt.cc/bbs/Gossiping/M.1742887156.A.6CE.html [問卦]比特犬咬人很多人說是養的人問題 也不去領\n",
            " 3/25 https://www.ptt.cc/bbs/Gossiping/M.1742887224.A.B0A.html [新聞] 涮樂和牛羅東店食物中毒檢驗曝　疾管署：\n",
            " 3/25 https://www.ptt.cc/bbs/Gossiping/M.1742887252.A.1B7.html Re: [問卦] 今天共配亞亞沒被強制出境 我就終身...\n",
            " 3/25 https://www.ptt.cc/bbs/Gossiping/M.1742887283.A.F64.html [問卦] 中共是敵國戰機越線怎麼不打下來\n",
            "11/02 https://www.ptt.cc/bbs/Gossiping/M.1730554547.A.41C.html Fw: [公告] 請留意新註冊帳號使用信件詐騙\n",
            " 1/21 https://www.ptt.cc/bbs/Gossiping/M.1737398137.A.644.html [公告] 八卦板板規(2025.01.21)\n",
            " 2/20 https://www.ptt.cc/bbs/Gossiping/M.1740024219.A.1EB.html [公告]  春季大反攻！！八卦板主徵選報名開始捏\n",
            " 3/12 https://www.ptt.cc/bbs/Gossiping/M.1741791500.A.EB6.html Fw: [公告] 請避免與登入1次之帳號進行交易 發錢\n",
            " 3/25 https://www.ptt.cc/bbs/Gossiping/M.1742886853.A.F1F.html Re: [問卦] 在中國宣揚台獨會怎麼樣\n",
            " 3/25 https://www.ptt.cc/bbs/Gossiping/M.1742886948.A.5E6.html [問卦] 開獎看到這個如何調適\n",
            " 3/25 https://www.ptt.cc/bbs/Gossiping/M.1742887010.A.89A.html Re: [問卦]  我不認同你的觀點 但是我誓死捍衛你說\n",
            " 3/25 https://www.ptt.cc/bbs/Gossiping/M.1742887012.A.67D.html Re: [問卦]  我不認同你的觀點 但是我誓死捍衛你說\n",
            " 3/25 https://www.ptt.cc/bbs/Gossiping/M.1742887027.A.5F3.html [問卦] 亞亞真的太蠢了\n",
            " 3/25 https://www.ptt.cc/bbs/Gossiping/M.1742887100.A.5F1.html [問卦] 記者快來！中國網友一千留言要台灣放人\n",
            " 3/25 https://www.ptt.cc/bbs/Gossiping/M.1742887102.A.21F.html [問卦] 一輩子只能吃速食店怎麼選\n",
            " 3/25 https://www.ptt.cc/bbs/Gossiping/M.1742887137.A.FF6.html [問卦] 小微跟恩綺現在在幹嘛？\n",
            " 3/25 https://www.ptt.cc/bbs/Gossiping/M.1742887144.A.119.html [問卦] 金價會無止盡上漲嗎？\n",
            " 3/25 https://www.ptt.cc/bbs/Gossiping/M.1742887156.A.6CE.html [問卦]比特犬咬人很多人說是養的人問題 也不去領\n",
            " 3/25 https://www.ptt.cc/bbs/Gossiping/M.1742887224.A.B0A.html [新聞] 涮樂和牛羅東店食物中毒檢驗曝　疾管署：\n",
            " 3/25 https://www.ptt.cc/bbs/Gossiping/M.1742887252.A.1B7.html Re: [問卦] 今天共配亞亞沒被強制出境 我就終身...\n",
            " 3/25 https://www.ptt.cc/bbs/Gossiping/M.1742887283.A.F64.html [問卦] 中共是敵國戰機越線怎麼不打下來\n",
            "11/02 https://www.ptt.cc/bbs/Gossiping/M.1730554547.A.41C.html Fw: [公告] 請留意新註冊帳號使用信件詐騙\n",
            " 1/21 https://www.ptt.cc/bbs/Gossiping/M.1737398137.A.644.html [公告] 八卦板板規(2025.01.21)\n",
            " 2/20 https://www.ptt.cc/bbs/Gossiping/M.1740024219.A.1EB.html [公告]  春季大反攻！！八卦板主徵選報名開始捏\n",
            " 3/12 https://www.ptt.cc/bbs/Gossiping/M.1741791500.A.EB6.html Fw: [公告] 請避免與登入1次之帳號進行交易 發錢\n",
            " 3/25 https://www.ptt.cc/bbs/Gossiping/M.1742886853.A.F1F.html Re: [問卦] 在中國宣揚台獨會怎麼樣\n",
            " 3/25 https://www.ptt.cc/bbs/Gossiping/M.1742886948.A.5E6.html [問卦] 開獎看到這個如何調適\n",
            " 3/25 https://www.ptt.cc/bbs/Gossiping/M.1742887010.A.89A.html Re: [問卦]  我不認同你的觀點 但是我誓死捍衛你說\n",
            " 3/25 https://www.ptt.cc/bbs/Gossiping/M.1742887012.A.67D.html Re: [問卦]  我不認同你的觀點 但是我誓死捍衛你說\n",
            " 3/25 https://www.ptt.cc/bbs/Gossiping/M.1742887027.A.5F3.html [問卦] 亞亞真的太蠢了\n",
            " 3/25 https://www.ptt.cc/bbs/Gossiping/M.1742887100.A.5F1.html [問卦] 記者快來！中國網友一千留言要台灣放人\n",
            " 3/25 https://www.ptt.cc/bbs/Gossiping/M.1742887102.A.21F.html [問卦] 一輩子只能吃速食店怎麼選\n",
            " 3/25 https://www.ptt.cc/bbs/Gossiping/M.1742887137.A.FF6.html [問卦] 小微跟恩綺現在在幹嘛？\n",
            " 3/25 https://www.ptt.cc/bbs/Gossiping/M.1742887144.A.119.html [問卦] 金價會無止盡上漲嗎？\n",
            " 3/25 https://www.ptt.cc/bbs/Gossiping/M.1742887156.A.6CE.html [問卦]比特犬咬人很多人說是養的人問題 也不去領\n",
            " 3/25 https://www.ptt.cc/bbs/Gossiping/M.1742887224.A.B0A.html [新聞] 涮樂和牛羅東店食物中毒檢驗曝　疾管署：\n",
            " 3/25 https://www.ptt.cc/bbs/Gossiping/M.1742887252.A.1B7.html Re: [問卦] 今天共配亞亞沒被強制出境 我就終身...\n",
            " 3/25 https://www.ptt.cc/bbs/Gossiping/M.1742887283.A.F64.html [問卦] 中共是敵國戰機越線怎麼不打下來\n",
            "11/02 https://www.ptt.cc/bbs/Gossiping/M.1730554547.A.41C.html Fw: [公告] 請留意新註冊帳號使用信件詐騙\n",
            " 1/21 https://www.ptt.cc/bbs/Gossiping/M.1737398137.A.644.html [公告] 八卦板板規(2025.01.21)\n",
            " 2/20 https://www.ptt.cc/bbs/Gossiping/M.1740024219.A.1EB.html [公告]  春季大反攻！！八卦板主徵選報名開始捏\n",
            " 3/12 https://www.ptt.cc/bbs/Gossiping/M.1741791500.A.EB6.html Fw: [公告] 請避免與登入1次之帳號進行交易 發錢\n"
          ]
        }
      ]
    }
  ]
}