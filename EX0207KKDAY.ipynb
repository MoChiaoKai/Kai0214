{
  "nbformat": 4,
  "nbformat_minor": 0,
  "metadata": {
    "colab": {
      "provenance": [],
      "authorship_tag": "ABX9TyOAPqr8YEQ6qv8OC3Ar5svv",
      "include_colab_link": true
    },
    "kernelspec": {
      "name": "python3",
      "display_name": "Python 3"
    },
    "language_info": {
      "name": "python"
    }
  },
  "cells": [
    {
      "cell_type": "markdown",
      "metadata": {
        "id": "view-in-github",
        "colab_type": "text"
      },
      "source": [
        "<a href=\"https://colab.research.google.com/github/MoChiaoKai/Kai0214/blob/main/EX0207KKDAY.ipynb\" target=\"_parent\"><img src=\"https://colab.research.google.com/assets/colab-badge.svg\" alt=\"Open In Colab\"/></a>"
      ]
    },
    {
      "cell_type": "code",
      "execution_count": null,
      "metadata": {
        "colab": {
          "base_uri": "https://localhost:8080/"
        },
        "id": "vfsWCFBTfU3z",
        "outputId": "027f9cbf-604e-4c96-a2d0-360cd82c2012"
      },
      "outputs": [
        {
          "output_type": "execute_result",
          "data": {
            "text/plain": [
              "<title>最熱門 東京 住宿 - 2025 更新 - KKday</title>"
            ]
          },
          "metadata": {},
          "execution_count": 1
        }
      ],
      "source": [
        "import requests\n",
        "from bs4 import BeautifulSoup\n",
        "\n",
        "url = 'https://www.kkday.com/zh-tw/category/jp-tokyo/accommodation'\n",
        "headers = {'user-agent': 'Mozilla/5.0 (Windows NT 10.0; Win64; x64) AppleWebKit/537.36 (KHTML, like Gecko) Chrome/129.0.0.0 Safari/537.36'}\n",
        "response = requests.get(url, headers=headers)\n",
        "soup = BeautifulSoup(response.text, 'lxml')\n",
        "soup.title"
      ]
    },
    {
      "cell_type": "code",
      "source": [
        "soup.find('h3', class_='product-card_title').text"
      ],
      "metadata": {
        "colab": {
          "base_uri": "https://localhost:8080/",
          "height": 141
        },
        "id": "TSP5PS8JgDdT",
        "outputId": "666c6eb0-b375-46c3-9cbb-cc69448e3a6a"
      },
      "execution_count": null,
      "outputs": [
        {
          "output_type": "error",
          "ename": "AttributeError",
          "evalue": "'NoneType' object has no attribute 'text'",
          "traceback": [
            "\u001b[0;31m---------------------------------------------------------------------------\u001b[0m",
            "\u001b[0;31mAttributeError\u001b[0m                            Traceback (most recent call last)",
            "\u001b[0;32m<ipython-input-2-b0135baba33d>\u001b[0m in \u001b[0;36m<cell line: 0>\u001b[0;34m()\u001b[0m\n\u001b[0;32m----> 1\u001b[0;31m \u001b[0msoup\u001b[0m\u001b[0;34m.\u001b[0m\u001b[0mfind\u001b[0m\u001b[0;34m(\u001b[0m\u001b[0;34m'h3'\u001b[0m\u001b[0;34m,\u001b[0m \u001b[0mclass_\u001b[0m\u001b[0;34m=\u001b[0m\u001b[0;34m'product-card_title'\u001b[0m\u001b[0;34m)\u001b[0m\u001b[0;34m.\u001b[0m\u001b[0mtext\u001b[0m\u001b[0;34m\u001b[0m\u001b[0;34m\u001b[0m\u001b[0m\n\u001b[0m",
            "\u001b[0;31mAttributeError\u001b[0m: 'NoneType' object has no attribute 'text'"
          ]
        }
      ]
    },
    {
      "cell_type": "code",
      "source": [
        "import requests\n",
        "\n",
        "url = 'https://www.kkday.com/zh-tw/category/ajax_get_top_products?productCategory=CATEGORY_078&destination=D-JP-3261'\n",
        "headers = {'user-agent': 'Mozilla/5.0 (Windows NT 10.0; Win64; x64) AppleWebKit/537.36 (KHTML, like Gecko) Chrome/129.0.0.0 Safari/537.36'}\n",
        "response = requests.get(url, headers=headers)\n",
        "hotels = response.json()"
      ],
      "metadata": {
        "id": "ovIyq2kegGs6"
      },
      "execution_count": null,
      "outputs": []
    },
    {
      "cell_type": "code",
      "source": [
        "hotels['data'][0]"
      ],
      "metadata": {
        "colab": {
          "base_uri": "https://localhost:8080/"
        },
        "id": "HL3Yj-gogIIK",
        "outputId": "a11b4cae-5594-42f0-a65d-98b019c38b3a"
      },
      "execution_count": null,
      "outputs": [
        {
          "output_type": "execute_result",
          "data": {
            "text/plain": [
              "{'id': 191388,\n",
              " 'prod_oid': 191388,\n",
              " 'name': 'Hotel Resol 秋葉原',\n",
              " 'introduction': '入住Resol旗下飯店,於秋葉原過夜 從機場線 羽田機場國際航線航站樓站 搭乘電車到山手線 濱松町站 (5分鐘), 從山手線 濱松町站到山手線 秋葉原站 搭乘普通電車 (10分鐘), 從山手線 秋葉原站 步行 (3分鐘)',\n",
              " 'rating_count': 0,\n",
              " 'rating_star': 0,\n",
              " 'order_count': 2,\n",
              " 'show_order_count': '',\n",
              " 'confirm_hour': 0,\n",
              " 'instant_booking': True,\n",
              " 'instant_use': True,\n",
              " 'free_refund_policy': True,\n",
              " 'free_refund_before_day': 2,\n",
              " 'earliest_sale_date': '20250515',\n",
              " 'sale_status': '1',\n",
              " 'purchase_type': None,\n",
              " 'purchase_date': None,\n",
              " 'is_tourism_product': True,\n",
              " 'readable_url': None,\n",
              " 'main_cat_key': 'M01',\n",
              " 'product_category': {'main': 'CATEGORY_078', 'sub': []},\n",
              " 'promo_tag_keys': [],\n",
              " 'cat_key': ['TAG_6_1'],\n",
              " 'theme_code': [],\n",
              " 'product_labels': [],\n",
              " 'img_url': 'https://image.kkday.com/image/get/w_600%2Cc_fit/s1.kkday.com/product_191388/20241118092759_6Pbxj/png',\n",
              " 'img_url_list': ['https://image.kkday.com/image/get/w_600%2Cc_fit/s1.kkday.com/product_191388/20241118092759_6Pbxj/png',\n",
              "  'https://image.kkday.com/image/get/w_600%2Cc_fit/s1.kkday.com/product_191388/20241118092759_SAlTL/png',\n",
              "  'https://image.kkday.com/image/get/w_600%2Cc_fit/s1.kkday.com/product_191388/20241118092759_iZ7zt/png',\n",
              "  'https://image.kkday.com/image/get/w_600%2Cc_fit/s1.kkday.com/product_191388/20241118092759_A0iol/png',\n",
              "  'https://image.kkday.com/image/get/w_600%2Cc_fit/s1.kkday.com/product_191388/20241118092759_GHHIv/png'],\n",
              " 'duration': 0,\n",
              " 'days': 0,\n",
              " 'hours': 0,\n",
              " 'minutes': 0,\n",
              " 'currency': 'TWD',\n",
              " 'display_sale_price': '2,715',\n",
              " 'sale_price': 2715,\n",
              " 'display_price': '2,715',\n",
              " 'price': 2715,\n",
              " 'discount': 0,\n",
              " 'is_display_price': False,\n",
              " 'app_cheaper_than_web': False,\n",
              " 'max_price': 10846,\n",
              " 'countries': [{'id': 'A01-003',\n",
              "   'name': '日本',\n",
              "   'cities': [{'id': 'A01-003-99999', 'name': '所有城市'},\n",
              "    {'id': 'A01-003-00001', 'name': '東京'}]}],\n",
              " 'is_marketplace': False,\n",
              " 'supplier_oid_list': ['21011'],\n",
              " 'supplier_name': None,\n",
              " 'supplier_logo': None,\n",
              " 'supplier_award': 0,\n",
              " 'supplier_badge': 0,\n",
              " 'is_zero_price': False,\n",
              " 'destinations': [{'code': 'D-JP-3261', 'name': '東京'},\n",
              "  {'code': 'D-JP-3218', 'name': '關東'},\n",
              "  {'code': 'D-JP-112', 'name': '日本'}]}"
            ]
          },
          "metadata": {},
          "execution_count": 7
        }
      ]
    },
    {
      "cell_type": "code",
      "source": [
        "from IPython.display import Image, display\n",
        "\n",
        "for hotel in hotels['data']:\n",
        "    print(hotel['name'], hotel['rating_star'], hotel['sale_price'])\n",
        "    print(hotel['introduction'])\n",
        "    display(Image(url=hotel['img_url'], width=300))\n",
        "    print('-' * 3)\n",
        "    print()"
      ],
      "metadata": {
        "colab": {
          "base_uri": "https://localhost:8080/",
          "height": 905
        },
        "id": "ySZZ_GpRgJv-",
        "outputId": "d656c577-9ccc-4007-cfc9-92131064b8ff"
      },
      "execution_count": null,
      "outputs": [
        {
          "output_type": "stream",
          "name": "stdout",
          "text": [
            "Hotel Resol 秋葉原 0 2715\n",
            "入住Resol旗下飯店,於秋葉原過夜 從機場線 羽田機場國際航線航站樓站 搭乘電車到山手線 濱松町站 (5分鐘), 從山手線 濱松町站到山手線 秋葉原站 搭乘普通電車 (10分鐘), 從山手線 秋葉原站 步行 (3分鐘)\n"
          ]
        },
        {
          "output_type": "display_data",
          "data": {
            "text/html": [
              "<img src=\"https://image.kkday.com/image/get/w_600%2Cc_fit/s1.kkday.com/product_191388/20241118092759_6Pbxj/png\" width=\"300\"/>"
            ],
            "text/plain": [
              "<IPython.core.display.Image object>"
            ]
          },
          "metadata": {}
        },
        {
          "output_type": "stream",
          "name": "stdout",
          "text": [
            "---\n",
            "\n",
            "相鐵FRESA INN 東京錦糸町 0 1911\n",
            "相鐵FRESA INN 東京錦糸町,交通便利,靠近東京站。即刻預訂,體驗東京的繁華生活!\n"
          ]
        },
        {
          "output_type": "display_data",
          "data": {
            "text/html": [
              "<img src=\"https://image.kkday.com/image/get/w_600%2Cc_fit/s1.kkday.com/product_194684/20241009053024_xbVfK/png\" width=\"300\"/>"
            ],
            "text/plain": [
              "<IPython.core.display.Image object>"
            ]
          },
          "metadata": {}
        },
        {
          "output_type": "stream",
          "name": "stdout",
          "text": [
            "---\n",
            "\n",
            "東京淺草雷索爾奢華飯店 5 1152\n",
            "東京淺草雷索爾奢華飯店,位於淺草,提供高級住宿與便利交通。馬上預訂,享受淺草的魅力!\n"
          ]
        },
        {
          "output_type": "display_data",
          "data": {
            "text/html": [
              "<img src=\"https://image.kkday.com/image/get/w_600%2Cc_fit/s1.kkday.com/product_193174/20241007105818_J1Dz1/png\" width=\"300\"/>"
            ],
            "text/plain": [
              "<IPython.core.display.Image object>"
            ]
          },
          "metadata": {}
        },
        {
          "output_type": "stream",
          "name": "stdout",
          "text": [
            "---\n",
            "\n",
            "日暮里阿爾蒙特飯店 0 2834\n",
            "享受日暮里阿爾蒙特飯店的舒適住宿,便捷至東京主要景點,立即預訂,開啟您的東京之旅!\n"
          ]
        },
        {
          "output_type": "display_data",
          "data": {
            "text/html": [
              "<img src=\"https://image.kkday.com/image/get/w_600%2Cc_fit/s1.kkday.com/product_193898/20241029064831_EWA64/png\" width=\"300\"/>"
            ],
            "text/plain": [
              "<IPython.core.display.Image object>"
            ]
          },
          "metadata": {}
        },
        {
          "output_type": "stream",
          "name": "stdout",
          "text": [
            "---\n",
            "\n",
            "Rembrandt Hotel Tokyo-Machida 0 1808\n",
            "無論前往新宿或橫濱都十分方便的歐洲風格飯店 從橫濱線 町田站 步行 (2分鐘)\n"
          ]
        },
        {
          "output_type": "display_data",
          "data": {
            "text/html": [
              "<img src=\"https://image.kkday.com/image/get/w_600%2Cc_fit/s1.kkday.com/product_190553/20241005225743_tN2mV/png\" width=\"300\"/>"
            ],
            "text/plain": [
              "<IPython.core.display.Image object>"
            ]
          },
          "metadata": {}
        },
        {
          "output_type": "stream",
          "name": "stdout",
          "text": [
            "---\n",
            "\n",
            "上野公園光芒飯店 0 2870\n",
            "車站附近★VOD任看★席夢思床墊,高檔次的酒店 從山手線 鶯谷站 搭乘步行到山手線 鶯谷站 (3分鐘), 從山手線 鶯谷站到山手線 鶯谷站 搭乘電車 (2分鐘), 從山手線 鶯谷站 搭乘步行 (3分鐘)\n"
          ]
        },
        {
          "output_type": "display_data",
          "data": {
            "text/html": [
              "<img src=\"https://image.kkday.com/image/get/w_600%2Cc_fit/s1.kkday.com/product_194935/20241118111351_4KrRP/png\" width=\"300\"/>"
            ],
            "text/plain": [
              "<IPython.core.display.Image object>"
            ]
          },
          "metadata": {}
        },
        {
          "output_type": "stream",
          "name": "stdout",
          "text": [
            "---\n",
            "\n",
            "上野御徒町超級飯店 5 2695\n",
            "上野御徒町超級飯店,靠近上野公園和博物館,便捷至東京主要景點,立即預訂,享受便利住宿!\n"
          ]
        },
        {
          "output_type": "display_data",
          "data": {
            "text/html": [
              "<img src=\"https://image.kkday.com/image/get/w_600%2Cc_fit/s1.kkday.com/product_244886/20241006071617_0EYB1/png\" width=\"300\"/>"
            ],
            "text/plain": [
              "<IPython.core.display.Image object>"
            ]
          },
          "metadata": {}
        },
        {
          "output_type": "stream",
          "name": "stdout",
          "text": [
            "---\n",
            "\n",
            "上野皇冠山丘高級酒店 0 3051\n",
            "上野皇冠山丘高級酒店提供奢華住宿與絕佳景觀,盡情體驗上野的文化魅力,馬上預訂!\n"
          ]
        },
        {
          "output_type": "display_data",
          "data": {
            "text/html": [
              "<img src=\"https://image.kkday.com/image/get/w_600%2Cc_fit/s1.kkday.com/product_195168/20241009174628_FFe4O/png\" width=\"300\"/>"
            ],
            "text/plain": [
              "<IPython.core.display.Image object>"
            ]
          },
          "metadata": {}
        },
        {
          "output_type": "stream",
          "name": "stdout",
          "text": [
            "---\n",
            "\n",
            "東京押上京成里士滿飯店 5 2734\n",
            "東京押上京成里士滿飯店,距離押上站步行可達,提供舒適住宿。即刻預訂,享受東京的都市生活!\n"
          ]
        },
        {
          "output_type": "display_data",
          "data": {
            "text/html": [
              "<img src=\"https://image.kkday.com/image/get/w_600%2Cc_fit/s1.kkday.com/product_192442/20241012060315_EdJAk/png\" width=\"300\"/>"
            ],
            "text/plain": [
              "<IPython.core.display.Image object>"
            ]
          },
          "metadata": {}
        },
        {
          "output_type": "stream",
          "name": "stdout",
          "text": [
            "---\n",
            "\n",
            "上野御徒町相鐵FRESA INN 0 2463\n",
            "由JR線御徒町站北口步行3分鐘即可抵達\n"
          ]
        },
        {
          "output_type": "display_data",
          "data": {
            "text/html": [
              "<img src=\"https://image.kkday.com/image/get/w_600%2Cc_fit/s1.kkday.com/product_191922/20241006215739_bu485/png\" width=\"300\"/>"
            ],
            "text/plain": [
              "<IPython.core.display.Image object>"
            ]
          },
          "metadata": {}
        },
        {
          "output_type": "stream",
          "name": "stdout",
          "text": [
            "---\n",
            "\n"
          ]
        }
      ]
    }
  ]
}