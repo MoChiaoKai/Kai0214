{
  "nbformat": 4,
  "nbformat_minor": 0,
  "metadata": {
    "colab": {
      "provenance": [],
      "authorship_tag": "ABX9TyOGKJU/2KD91NMAmV2BDaz1",
      "include_colab_link": true
    },
    "kernelspec": {
      "name": "python3",
      "display_name": "Python 3"
    },
    "language_info": {
      "name": "python"
    }
  },
  "cells": [
    {
      "cell_type": "markdown",
      "metadata": {
        "id": "view-in-github",
        "colab_type": "text"
      },
      "source": [
        "<a href=\"https://colab.research.google.com/github/MoChiaoKai/Kai0214/blob/main/EX0102BMI%E8%A8%88%E7%AE%97.ipynb\" target=\"_parent\"><img src=\"https://colab.research.google.com/assets/colab-badge.svg\" alt=\"Open In Colab\"/></a>"
      ]
    },
    {
      "cell_type": "code",
      "execution_count": 8,
      "metadata": {
        "colab": {
          "base_uri": "https://localhost:8080/"
        },
        "id": "BehmELRcK1Rs",
        "outputId": "0318d75c-da57-445d-bc4f-ba20dc8e8c03"
      },
      "outputs": [
        {
          "output_type": "stream",
          "name": "stdout",
          "text": [
            "height:172\n",
            "weight:60\n",
            "BMI: 20.3\n"
          ]
        }
      ],
      "source": [
        "ht = float( input(\"height:\") )\n",
        "wt = float( input(\"weight:\"))\n",
        "bmi = wt / (ht/100)**2\n",
        "print(\"BMI:\", round(bmi,1) )"
      ]
    }
  ]
}