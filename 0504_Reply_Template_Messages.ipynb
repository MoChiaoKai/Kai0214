{
  "cells": [
    {
      "cell_type": "markdown",
      "metadata": {
        "id": "view-in-github",
        "colab_type": "text"
      },
      "source": [
        "<a href=\"https://colab.research.google.com/github/MoChiaoKai/Kai0214/blob/main/0504_Reply_Template_Messages.ipynb\" target=\"_parent\"><img src=\"https://colab.research.google.com/assets/colab-badge.svg\" alt=\"Open In Colab\"/></a>"
      ]
    },
    {
      "cell_type": "code",
      "execution_count": 1,
      "metadata": {
        "colab": {
          "base_uri": "https://localhost:8080/"
        },
        "id": "escgRQzV9Jmb",
        "outputId": "2a6282f3-1de8-4eba-f5a1-c33eaa16d213"
      },
      "outputs": [
        {
          "output_type": "stream",
          "name": "stdout",
          "text": [
            "\u001b[?25l   \u001b[90m━━━━━━━━━━━━━━━━━━━━━━━━━━━━━━━━━━━━━━━━\u001b[0m \u001b[32m0.0/776.1 kB\u001b[0m \u001b[31m?\u001b[0m eta \u001b[36m-:--:--\u001b[0m\r\u001b[2K   \u001b[91m━━━━━━━\u001b[0m\u001b[90m╺\u001b[0m\u001b[90m━━━━━━━━━━━━━━━━━━━━━━━━━━━━━━━━\u001b[0m \u001b[32m143.4/776.1 kB\u001b[0m \u001b[31m4.1 MB/s\u001b[0m eta \u001b[36m0:00:01\u001b[0m\r\u001b[2K   \u001b[91m━━━━━━━━━━━━━━━━━━━━━━━━━━━━━━━━━━━\u001b[0m\u001b[91m╸\u001b[0m\u001b[90m━━━━\u001b[0m \u001b[32m696.3/776.1 kB\u001b[0m \u001b[31m10.4 MB/s\u001b[0m eta \u001b[36m0:00:01\u001b[0m\r\u001b[2K   \u001b[90m━━━━━━━━━━━━━━━━━━━━━━━━━━━━━━━━━━━━━━━━\u001b[0m \u001b[32m776.1/776.1 kB\u001b[0m \u001b[31m8.2 MB/s\u001b[0m eta \u001b[36m0:00:00\u001b[0m\n",
            "\u001b[?25h\u001b[?25l   \u001b[90m━━━━━━━━━━━━━━━━━━━━━━━━━━━━━━━━━━━━━━━━\u001b[0m \u001b[32m0.0/165.6 kB\u001b[0m \u001b[31m?\u001b[0m eta \u001b[36m-:--:--\u001b[0m\r\u001b[2K   \u001b[90m━━━━━━━━━━━━━━━━━━━━━━━━━━━━━━━━━━━━━━━━\u001b[0m \u001b[32m165.6/165.6 kB\u001b[0m \u001b[31m11.2 MB/s\u001b[0m eta \u001b[36m0:00:00\u001b[0m\n",
            "\u001b[?25h"
          ]
        }
      ],
      "source": [
        "!pip install -q pyngrok flask flask_ngrok # for colab\n",
        "!pip install -q flask line-bot-sdk\n"
      ]
    },
    {
      "cell_type": "code",
      "execution_count": null,
      "metadata": {
        "colab": {
          "background_save": true,
          "base_uri": "https://localhost:8080/"
        },
        "id": "05fJWYXU6GBV",
        "outputId": "fcba796e-87b8-4be6-bd7e-78163d107a8e"
      },
      "outputs": [
        {
          "output_type": "stream",
          "name": "stdout",
          "text": [
            " * Serving Flask app '__main__'\n",
            " * Debug mode: off\n"
          ]
        },
        {
          "output_type": "stream",
          "name": "stderr",
          "text": [
            "INFO:werkzeug:\u001b[31m\u001b[1mWARNING: This is a development server. Do not use it in a production deployment. Use a production WSGI server instead.\u001b[0m\n",
            " * Running on http://127.0.0.1:5000\n",
            "INFO:werkzeug:\u001b[33mPress CTRL+C to quit\u001b[0m\n"
          ]
        },
        {
          "output_type": "stream",
          "name": "stdout",
          "text": [
            " * Running on http://c62e-34-106-192-230.ngrok-free.app\n",
            " * Traffic stats available on http://127.0.0.1:4040\n"
          ]
        },
        {
          "output_type": "stream",
          "name": "stderr",
          "text": [
            "INFO:werkzeug:127.0.0.1 - - [03/Jun/2025 06:06:40] \"POST /callback HTTP/1.1\" 200 -\n",
            "INFO:werkzeug:127.0.0.1 - - [03/Jun/2025 06:06:49] \"POST /callback HTTP/1.1\" 200 -\n",
            "INFO:werkzeug:127.0.0.1 - - [03/Jun/2025 06:09:08] \"POST /callback HTTP/1.1\" 200 -\n",
            "INFO:werkzeug:127.0.0.1 - - [03/Jun/2025 06:09:11] \"POST /callback HTTP/1.1\" 200 -\n",
            "INFO:werkzeug:127.0.0.1 - - [03/Jun/2025 06:09:20] \"POST /callback HTTP/1.1\" 200 -\n",
            "INFO:werkzeug:127.0.0.1 - - [03/Jun/2025 06:09:22] \"POST /callback HTTP/1.1\" 200 -\n",
            "ERROR:__main__:Exception on /callback [POST]\n",
            "Traceback (most recent call last):\n",
            "  File \"/usr/local/lib/python3.11/dist-packages/flask/app.py\", line 1511, in wsgi_app\n",
            "    response = self.full_dispatch_request()\n",
            "               ^^^^^^^^^^^^^^^^^^^^^^^^^^^^\n",
            "  File \"/usr/local/lib/python3.11/dist-packages/flask/app.py\", line 919, in full_dispatch_request\n",
            "    rv = self.handle_user_exception(e)\n",
            "         ^^^^^^^^^^^^^^^^^^^^^^^^^^^^^\n",
            "  File \"/usr/local/lib/python3.11/dist-packages/flask/app.py\", line 917, in full_dispatch_request\n",
            "    rv = self.dispatch_request()\n",
            "         ^^^^^^^^^^^^^^^^^^^^^^^\n",
            "  File \"/usr/local/lib/python3.11/dist-packages/flask/app.py\", line 902, in dispatch_request\n",
            "    return self.ensure_sync(self.view_functions[rule.endpoint])(**view_args)  # type: ignore[no-any-return]\n",
            "           ^^^^^^^^^^^^^^^^^^^^^^^^^^^^^^^^^^^^^^^^^^^^^^^^^^^^^^^^^^^^^^^^^\n",
            "  File \"<ipython-input-2-d112a5a725be>\", line 38, in callback\n",
            "    handler.handle(body, signature)\n",
            "  File \"/usr/local/lib/python3.11/dist-packages/linebot/v3/webhook.py\", line 227, in handle\n",
            "    self.__invoke_func(func, event, payload)\n",
            "  File \"/usr/local/lib/python3.11/dist-packages/linebot/v3/webhook.py\", line 239, in __invoke_func\n",
            "    func(event)\n",
            "  File \"<ipython-input-2-d112a5a725be>\", line 62, in message\n",
            "    carousel_template = CarouselTemplate(\n",
            "                        ^^^^^^^^^^^^^^^^\n",
            "NameError: name 'CarouselTemplate' is not defined\n",
            "INFO:werkzeug:127.0.0.1 - - [03/Jun/2025 06:09:31] \"\u001b[35m\u001b[1mPOST /callback HTTP/1.1\u001b[0m\" 500 -\n",
            "ERROR:__main__:Exception on /callback [POST]\n",
            "Traceback (most recent call last):\n",
            "  File \"/usr/local/lib/python3.11/dist-packages/flask/app.py\", line 1511, in wsgi_app\n",
            "    response = self.full_dispatch_request()\n",
            "               ^^^^^^^^^^^^^^^^^^^^^^^^^^^^\n",
            "  File \"/usr/local/lib/python3.11/dist-packages/flask/app.py\", line 919, in full_dispatch_request\n",
            "    rv = self.handle_user_exception(e)\n",
            "         ^^^^^^^^^^^^^^^^^^^^^^^^^^^^^\n",
            "  File \"/usr/local/lib/python3.11/dist-packages/flask/app.py\", line 917, in full_dispatch_request\n",
            "    rv = self.dispatch_request()\n",
            "         ^^^^^^^^^^^^^^^^^^^^^^^\n",
            "  File \"/usr/local/lib/python3.11/dist-packages/flask/app.py\", line 902, in dispatch_request\n",
            "    return self.ensure_sync(self.view_functions[rule.endpoint])(**view_args)  # type: ignore[no-any-return]\n",
            "           ^^^^^^^^^^^^^^^^^^^^^^^^^^^^^^^^^^^^^^^^^^^^^^^^^^^^^^^^^^^^^^^^^\n",
            "  File \"<ipython-input-2-d112a5a725be>\", line 38, in callback\n",
            "    handler.handle(body, signature)\n",
            "  File \"/usr/local/lib/python3.11/dist-packages/linebot/v3/webhook.py\", line 227, in handle\n",
            "    self.__invoke_func(func, event, payload)\n",
            "  File \"/usr/local/lib/python3.11/dist-packages/linebot/v3/webhook.py\", line 239, in __invoke_func\n",
            "    func(event)\n",
            "  File \"<ipython-input-2-d112a5a725be>\", line 62, in message\n",
            "    carousel_template = CarouselTemplate(\n",
            "                        ^^^^^^^^^^^^^^^^\n",
            "NameError: name 'CarouselTemplate' is not defined\n",
            "INFO:werkzeug:127.0.0.1 - - [03/Jun/2025 06:10:05] \"\u001b[35m\u001b[1mPOST /callback HTTP/1.1\u001b[0m\" 500 -\n",
            "INFO:werkzeug:127.0.0.1 - - [03/Jun/2025 06:10:10] \"POST /callback HTTP/1.1\" 200 -\n",
            "ERROR:__main__:Exception on /callback [POST]\n",
            "Traceback (most recent call last):\n",
            "  File \"/usr/local/lib/python3.11/dist-packages/flask/app.py\", line 1511, in wsgi_app\n",
            "    response = self.full_dispatch_request()\n",
            "               ^^^^^^^^^^^^^^^^^^^^^^^^^^^^\n",
            "  File \"/usr/local/lib/python3.11/dist-packages/flask/app.py\", line 919, in full_dispatch_request\n",
            "    rv = self.handle_user_exception(e)\n",
            "         ^^^^^^^^^^^^^^^^^^^^^^^^^^^^^\n",
            "  File \"/usr/local/lib/python3.11/dist-packages/flask/app.py\", line 917, in full_dispatch_request\n",
            "    rv = self.dispatch_request()\n",
            "         ^^^^^^^^^^^^^^^^^^^^^^^\n",
            "  File \"/usr/local/lib/python3.11/dist-packages/flask/app.py\", line 902, in dispatch_request\n",
            "    return self.ensure_sync(self.view_functions[rule.endpoint])(**view_args)  # type: ignore[no-any-return]\n",
            "           ^^^^^^^^^^^^^^^^^^^^^^^^^^^^^^^^^^^^^^^^^^^^^^^^^^^^^^^^^^^^^^^^^\n",
            "  File \"<ipython-input-2-d112a5a725be>\", line 38, in callback\n",
            "    handler.handle(body, signature)\n",
            "  File \"/usr/local/lib/python3.11/dist-packages/linebot/v3/webhook.py\", line 227, in handle\n",
            "    self.__invoke_func(func, event, payload)\n",
            "  File \"/usr/local/lib/python3.11/dist-packages/linebot/v3/webhook.py\", line 239, in __invoke_func\n",
            "    func(event)\n",
            "  File \"<ipython-input-2-d112a5a725be>\", line 62, in message\n",
            "    carousel_template = CarouselTemplate(\n",
            "                        ^^^^^^^^^^^^^^^^\n",
            "NameError: name 'CarouselTemplate' is not defined\n",
            "INFO:werkzeug:127.0.0.1 - - [03/Jun/2025 06:10:24] \"\u001b[35m\u001b[1mPOST /callback HTTP/1.1\u001b[0m\" 500 -\n"
          ]
        }
      ],
      "source": [
        "# colab\n",
        "\n",
        "from google.colab import userdata\n",
        "from pyngrok import ngrok\n",
        "from flask_ngrok import run_with_ngrok\n",
        "def ngrok_start():\n",
        "    ngrok.set_auth_token(userdata.get(\"NGROK_AUTH_TOKEN\"))\n",
        "    ngrok.connect(5000)\n",
        "    run_with_ngrok(app)\n",
        "\n",
        "# 啟動ngrok tunnel\n",
        "from flask import Flask, request, abort\n",
        "\n",
        "from linebot.v3 import WebhookHandler\n",
        "from linebot.v3.exceptions import InvalidSignatureError\n",
        "from linebot.v3.webhooks import MessageEvent, TextMessageContent\n",
        "from linebot.v3.messaging import (\n",
        "     Configuration, ApiClient, MessagingApi,\n",
        "     ReplyMessageRequest,\n",
        "     TextMessage,\n",
        "     TemplateMessage, ConfirmTemplate, MessageAction,\n",
        "     ImageCarouselTemplate,\n",
        "     ImageCarouselColumn,\n",
        "     PostbackAction,\n",
        "     URIAction\n",
        ")\n",
        "app = Flask(__name__)\n",
        "\n",
        "# 設定Handler\n",
        "configuration = Configuration(access_token=userdata.get(\"LINE_CHANNEL_ACCESS_TOKEN\"))\n",
        "handler = WebhookHandler(userdata.get(\"LINE_CHANNEL_SECRET\"))\n",
        "\n",
        "@app.route(\"/callback\", methods=[\"POST\"])\n",
        "def callback():\n",
        "    signature = request.headers[\"X-Line-Signature\"]\n",
        "    body = request.get_data(as_text=True)\n",
        "    try:\n",
        "        handler.handle(body, signature)\n",
        "    except InvalidSignatureError:\n",
        "        abort(400)\n",
        "    return \"OK\"\n",
        "\n",
        "@handler.add(MessageEvent, message=TextMessageContent)\n",
        "def message(event):\n",
        "    with ApiClient(configuration) as api_client:\n",
        "        line_bot_api = MessagingApi(api_client)\n",
        "\n",
        "        action = event.message.text\n",
        "        if action == \"confirm\":\n",
        "            confirm_template = ConfirmTemplate(\n",
        "                text=\"你確定要學習嗎？\",\n",
        "                actions=[\n",
        "                    MessageAction(label=\"是的\", text=\"我想要學習\"),\n",
        "                    MessageAction(label=\"不是\", text=\"我只是路過的啦\")\n",
        "                ]\n",
        "            )\n",
        "            reply = TemplateMessage(\n",
        "                alt_text=\"這是確認模板\",\n",
        "                template=confirm_template\n",
        "            )\n",
        "        elif action == \"carousel\":\n",
        "            carousel_template = CarouselTemplate(\n",
        "                columns=[\n",
        "                    CarouselColumn(\n",
        "                        thumbnail_image_url=\"https://upload.wikimedia.org/wikipedia/zh/7/7d/Summer_Wars_poster.jpg\",\n",
        "                        title=\"夏日大作戰\",\n",
        "                        text=\"虛擬世界的危機！\",\n",
        "                        actions=[\n",
        "                            MessageAction(label=\"影片介紹\", text=\"https://zh.wikipedia.org/zh-tw/%E5%A4%8F%E6%97%A5%E5%A4%A7%E4%BD%9C%E6%88%B0\"),\n",
        "                            MessageAction(label=\"想看\", text=\"我想再看一遍\")\n",
        "                        ]\n",
        "                    ),\n",
        "                    CarouselColumn(\n",
        "                        thumbnail_image_url=\"https://upload.wikimedia.org/wikipedia/zh/thumb/4/4f/Castle_of_Cagliostro_poster.png/250px-Castle_of_Cagliostro_poster.png\",\n",
        "                        title=\"魯邦三世：卡里奧斯特羅城\",\n",
        "                        text=\"義大利古堡奇遇記\",\n",
        "                        actions=[\n",
        "                            MessageAction(label=\"影片介紹\", text=\"https://zh.wikipedia.org/zh-tw/%E9%AD%AF%E9%82%A6%E4%B8%89%E4%B8%96%EF%BC%9A%E5%8D%A1%E9%87%8C%E5%A5%A7%E6%96%AF%E7%89%B9%E7%BE%85%E5%9F%8E\"),\n",
        "                            MessageAction(label=\"想看\", text=\"我想把這三年卡通補回來\")\n",
        "                        ]\n",
        "                    )\n",
        "                ]\n",
        "            )\n",
        "            reply = TemplateMessage(\n",
        "                alt_text=\"這是轉盤模板\",\n",
        "                template=carousel_template\n",
        "            )\n",
        "        else:\n",
        "            reply = TextMessage(text=\"Thanks!\")\n",
        "\n",
        "        line_bot_api.reply_message(\n",
        "            ReplyMessageRequest(\n",
        "                reply_token=event.reply_token,\n",
        "                messages=[reply]\n",
        "            )\n",
        "        )\n",
        "\n",
        "\n",
        "ngrok_start() # for colab\n",
        "if __name__ == \"__main__\":\n",
        "    app.run()"
      ]
    }
  ],
  "metadata": {
    "colab": {
      "provenance": [],
      "authorship_tag": "ABX9TyNZkBbhg/FZm7Asj4itpQnT",
      "include_colab_link": true
    },
    "kernelspec": {
      "display_name": "Python 3",
      "name": "python3"
    },
    "language_info": {
      "name": "python"
    }
  },
  "nbformat": 4,
  "nbformat_minor": 0
}