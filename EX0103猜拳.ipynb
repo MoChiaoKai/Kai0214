{
  "nbformat": 4,
  "nbformat_minor": 0,
  "metadata": {
    "colab": {
      "provenance": [],
      "authorship_tag": "ABX9TyPAmH0kQKnFgfHg5Y2RKMuj",
      "include_colab_link": true
    },
    "kernelspec": {
      "name": "python3",
      "display_name": "Python 3"
    },
    "language_info": {
      "name": "python"
    }
  },
  "cells": [
    {
      "cell_type": "markdown",
      "metadata": {
        "id": "view-in-github",
        "colab_type": "text"
      },
      "source": [
        "<a href=\"https://colab.research.google.com/github/MoChiaoKai/Kai0214/blob/main/EX0103%E7%8C%9C%E6%8B%B3.ipynb\" target=\"_parent\"><img src=\"https://colab.research.google.com/assets/colab-badge.svg\" alt=\"Open In Colab\"/></a>"
      ]
    },
    {
      "cell_type": "code",
      "execution_count": 3,
      "metadata": {
        "colab": {
          "base_uri": "https://localhost:8080/"
        },
        "id": "FvGVoldfRnSb",
        "outputId": "7f6c2994-551c-41c4-9349-7f3b93bd23ad"
      },
      "outputs": [
        {
          "output_type": "stream",
          "name": "stdout",
          "text": [
            "5\n",
            "computer: 0\n",
            "you win\n"
          ]
        }
      ],
      "source": [
        "import random\n",
        "ply = int( input() )\n",
        "cmp = random.choice([0,2,5])\n",
        "print(\"computer:\" , cmp)\n",
        "if ply == cmp :\n",
        "  print(\"draw\")\n",
        "elif (ply == 0 and cmp == 2 ) or (ply == 2 and cmp == 5) or (ply == 5 and cmp == 0):\n",
        "  print(\"you win\")\n",
        "else : print(\"you lose\")"
      ]
    }
  ]
}