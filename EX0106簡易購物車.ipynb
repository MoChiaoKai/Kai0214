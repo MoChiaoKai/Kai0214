{
  "nbformat": 4,
  "nbformat_minor": 0,
  "metadata": {
    "colab": {
      "provenance": [],
      "authorship_tag": "ABX9TyPusdJRxw/pIcVIJ3t2DCtq",
      "include_colab_link": true
    },
    "kernelspec": {
      "name": "python3",
      "display_name": "Python 3"
    },
    "language_info": {
      "name": "python"
    }
  },
  "cells": [
    {
      "cell_type": "markdown",
      "metadata": {
        "id": "view-in-github",
        "colab_type": "text"
      },
      "source": [
        "<a href=\"https://colab.research.google.com/github/MoChiaoKai/Kai0214/blob/main/EX0106%E7%B0%A1%E6%98%93%E8%B3%BC%E7%89%A9%E8%BB%8A.ipynb\" target=\"_parent\"><img src=\"https://colab.research.google.com/assets/colab-badge.svg\" alt=\"Open In Colab\"/></a>"
      ]
    },
    {
      "cell_type": "code",
      "execution_count": 5,
      "metadata": {
        "colab": {
          "base_uri": "https://localhost:8080/"
        },
        "id": "bshNE15uRSsD",
        "outputId": "6f641a01-dd37-4795-972d-48fdbb850d31"
      },
      "outputs": [
        {
          "output_type": "stream",
          "name": "stdout",
          "text": [
            "商品欄: apple/25,banana/12,cherry/30\n",
            "購物車: \n",
            "功能列: 1.新增商品 2.移除商品 3.結帳 4. 離開\n",
            "4\n",
            "bye\n"
          ]
        }
      ],
      "source": [
        "from IPython.display import clear_output\n",
        "shopping_cart =[]\n",
        "products = {'apple':25,'banana':12,'cherry':30}\n",
        "while True:\n",
        "    clear_output()\n",
        "    print('商品欄:',','.join([ f'{pd}/{pr}'for pd,pr in products.items()]))\n",
        "    print('購物車:',','.join(shopping_cart))\n",
        "    print('功能列:','1.新增商品 2.移除商品 3.結帳 4. 離開')\n",
        "    act = input(    )\n",
        "    if act[0] =='1':\n",
        "        shopping_cart.append(act[1:])\n",
        "    elif act[0] =='2':\n",
        "        shopping_cart.remove(act[1:])\n",
        "    elif act[0] =='3':\n",
        "        tt = 0\n",
        "        for i in shopping_cart:\n",
        "            tt += products[i]\n",
        "        print('結帳金額:',tt)\n",
        "        break\n",
        "    else:\n",
        "        print('bye')\n",
        "    break"
      ]
    }
  ]
}