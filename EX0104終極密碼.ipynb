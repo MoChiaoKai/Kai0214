{
  "nbformat": 4,
  "nbformat_minor": 0,
  "metadata": {
    "colab": {
      "provenance": [],
      "authorship_tag": "ABX9TyMCpEGBSMU/3kpoB4jtExJ4",
      "include_colab_link": true
    },
    "kernelspec": {
      "name": "python3",
      "display_name": "Python 3"
    },
    "language_info": {
      "name": "python"
    }
  },
  "cells": [
    {
      "cell_type": "markdown",
      "metadata": {
        "id": "view-in-github",
        "colab_type": "text"
      },
      "source": [
        "<a href=\"https://colab.research.google.com/github/MoChiaoKai/Kai0214/blob/main/EX0104%E7%B5%82%E6%A5%B5%E5%AF%86%E7%A2%BC.ipynb\" target=\"_parent\"><img src=\"https://colab.research.google.com/assets/colab-badge.svg\" alt=\"Open In Colab\"/></a>"
      ]
    },
    {
      "cell_type": "code",
      "execution_count": 10,
      "metadata": {
        "colab": {
          "base_uri": "https://localhost:8080/"
        },
        "id": "sT0c55M63LRJ",
        "outputId": "176fa7b1-e3b0-4672-b190-531e9e4b0f64"
      },
      "outputs": [
        {
          "output_type": "stream",
          "name": "stdout",
          "text": [
            "0 - 100\n",
            "guess:84\n",
            "0 - 84\n",
            "guess:35\n",
            "0 - 35\n",
            "guess:26\n",
            "0 - 26\n",
            "guess:17\n",
            "0 - 17\n",
            "guess:8\n",
            "0 - 8\n",
            "guess:3\n",
            "猜中\n"
          ]
        }
      ],
      "source": [
        "import random\n",
        "bomb = random.randint(1,99)\n",
        "lf = 0\n",
        "rt = 100\n",
        "while True:\n",
        "    print(lf,'-',rt)\n",
        "    gu = int(input('guess:'))\n",
        "    #超過範圍\n",
        "    if gu <= lf or gu >= rt:\n",
        "        print('超過範圍')\n",
        "    #比炸彈小\n",
        "    elif gu < bomb:\n",
        "        lf = gu\n",
        "    #比炸彈大\n",
        "    elif gu > bomb:\n",
        "        rt = gu\n",
        "    #猜中\n",
        "    else:\n",
        "        print('猜中')\n",
        "        break\n",
        "\n"
      ]
    }
  ]
}